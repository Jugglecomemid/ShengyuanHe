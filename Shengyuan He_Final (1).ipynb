{
 "cells": [
  {
   "cell_type": "markdown",
   "metadata": {},
   "source": [
    "# Analyzing SAT scores of New York in 2012\n",
    "### Introduction\n",
    "The SAT is an entrance exam used by most colleges and universities to make admission decisions. This is a multi-choice, pencil and paper test managed by the College Board.\n",
    "The purpose of the SAT is to measure the preparation of high school students for the university and to provide the university with a common data point that can be used to compare all applicants. University Admissions Officers will review standardized test scores with the high school GPA, high school curriculum, teacher or tutor recommendation letters, extracurricular activities, admissions interviews and personal papers. The importance of SAT scores in the university application process varies from school to school.\n",
    "### Data sources\n",
    "This dataset is from New York open data and provided by Department of Education. It indicated the most recent school level results for New York City on the SAT. Results are available at the school level for the graduating seniors of 2012. Records contain 2012 College-bound seniors mean SAT scores taken during SY 2012.\n",
    "### Questions to answer\n",
    "* What's the situation of SAT scores of New York in 2012?\n",
    "* Is there any relationships between total scores and scores of different parts?\n",
    "* Could we use critical reading part to predict the rank of the total socre?\n",
    "\n",
    "### Setting up the environment"
   ]
  },
  {
   "cell_type": "code",
   "execution_count": 1,
   "metadata": {},
   "outputs": [],
   "source": [
    "import numpy as np\n",
    "import pandas as pd\n",
    "import matplotlib.pyplot as plt\n",
    "import statsmodels\n",
    "import statsmodels.stats as stats\n",
    "import seaborn as sns\n",
    "import statsmodels.api as sm\n",
    "import statsmodels.formula.api as smf\n",
    "from patsy import dmatrices\n",
    "import sklearn\n",
    "import sklearn.metrics\n",
    "from sklearn import ensemble\n",
    "from sklearn import linear_model\n",
    "from sklearn.model_selection import train_test_split\n",
    "from sklearn.naive_bayes import GaussianNB\n",
    "import random\n",
    "from sklearn.metrics import accuracy_score"
   ]
  },
  {
   "cell_type": "markdown",
   "metadata": {},
   "source": [
    "### Data extraction\n",
    "We downloaded the data from New York Open data and uploaded to the dropbox. According to the link, we can directly download the original dataset."
   ]
  },
  {
   "cell_type": "code",
   "execution_count": 2,
   "metadata": {
    "scrolled": false
   },
   "outputs": [
    {
     "data": {
      "text/html": [
       "<div>\n",
       "<style scoped>\n",
       "    .dataframe tbody tr th:only-of-type {\n",
       "        vertical-align: middle;\n",
       "    }\n",
       "\n",
       "    .dataframe tbody tr th {\n",
       "        vertical-align: top;\n",
       "    }\n",
       "\n",
       "    .dataframe thead th {\n",
       "        text-align: right;\n",
       "    }\n",
       "</style>\n",
       "<table border=\"1\" class=\"dataframe\">\n",
       "  <thead>\n",
       "    <tr style=\"text-align: right;\">\n",
       "      <th></th>\n",
       "      <th>DBN</th>\n",
       "      <th>SCHOOL NAME</th>\n",
       "      <th>Num of SAT Test Takers</th>\n",
       "      <th>SAT Critical Reading Avg. Score</th>\n",
       "      <th>SAT Math Avg. Score</th>\n",
       "      <th>SAT Writing Avg. Score</th>\n",
       "    </tr>\n",
       "  </thead>\n",
       "  <tbody>\n",
       "    <tr>\n",
       "      <th>0</th>\n",
       "      <td>01M292</td>\n",
       "      <td>HENRY STREET SCHOOL FOR INTERNATIONAL STUDIES</td>\n",
       "      <td>29</td>\n",
       "      <td>355</td>\n",
       "      <td>404</td>\n",
       "      <td>363</td>\n",
       "    </tr>\n",
       "    <tr>\n",
       "      <th>1</th>\n",
       "      <td>01M448</td>\n",
       "      <td>UNIVERSITY NEIGHBORHOOD HIGH SCHOOL</td>\n",
       "      <td>91</td>\n",
       "      <td>383</td>\n",
       "      <td>423</td>\n",
       "      <td>366</td>\n",
       "    </tr>\n",
       "    <tr>\n",
       "      <th>2</th>\n",
       "      <td>01M450</td>\n",
       "      <td>EAST SIDE COMMUNITY SCHOOL</td>\n",
       "      <td>70</td>\n",
       "      <td>377</td>\n",
       "      <td>402</td>\n",
       "      <td>370</td>\n",
       "    </tr>\n",
       "    <tr>\n",
       "      <th>3</th>\n",
       "      <td>01M458</td>\n",
       "      <td>FORSYTH SATELLITE ACADEMY</td>\n",
       "      <td>7</td>\n",
       "      <td>414</td>\n",
       "      <td>401</td>\n",
       "      <td>359</td>\n",
       "    </tr>\n",
       "    <tr>\n",
       "      <th>4</th>\n",
       "      <td>01M509</td>\n",
       "      <td>MARTA VALLE HIGH SCHOOL</td>\n",
       "      <td>44</td>\n",
       "      <td>390</td>\n",
       "      <td>433</td>\n",
       "      <td>384</td>\n",
       "    </tr>\n",
       "    <tr>\n",
       "      <th>5</th>\n",
       "      <td>01M515</td>\n",
       "      <td>LOWER EAST SIDE PREPARATORY HIGH SCHOOL</td>\n",
       "      <td>112</td>\n",
       "      <td>332</td>\n",
       "      <td>557</td>\n",
       "      <td>316</td>\n",
       "    </tr>\n",
       "    <tr>\n",
       "      <th>6</th>\n",
       "      <td>01M539</td>\n",
       "      <td>NEW EXPLORATIONS INTO SCIENCE, TECHNOLOGY AND ...</td>\n",
       "      <td>159</td>\n",
       "      <td>522</td>\n",
       "      <td>574</td>\n",
       "      <td>525</td>\n",
       "    </tr>\n",
       "    <tr>\n",
       "      <th>7</th>\n",
       "      <td>01M650</td>\n",
       "      <td>CASCADES HIGH SCHOOL</td>\n",
       "      <td>18</td>\n",
       "      <td>417</td>\n",
       "      <td>418</td>\n",
       "      <td>411</td>\n",
       "    </tr>\n",
       "    <tr>\n",
       "      <th>8</th>\n",
       "      <td>01M696</td>\n",
       "      <td>BARD HIGH SCHOOL EARLY COLLEGE</td>\n",
       "      <td>130</td>\n",
       "      <td>624</td>\n",
       "      <td>604</td>\n",
       "      <td>628</td>\n",
       "    </tr>\n",
       "    <tr>\n",
       "      <th>9</th>\n",
       "      <td>02M047</td>\n",
       "      <td>47 THE AMERICAN SIGN LANGUAGE AND ENGLISH SECO...</td>\n",
       "      <td>16</td>\n",
       "      <td>395</td>\n",
       "      <td>400</td>\n",
       "      <td>387</td>\n",
       "    </tr>\n",
       "  </tbody>\n",
       "</table>\n",
       "</div>"
      ],
      "text/plain": [
       "      DBN                                        SCHOOL NAME  \\\n",
       "0  01M292      HENRY STREET SCHOOL FOR INTERNATIONAL STUDIES   \n",
       "1  01M448                UNIVERSITY NEIGHBORHOOD HIGH SCHOOL   \n",
       "2  01M450                         EAST SIDE COMMUNITY SCHOOL   \n",
       "3  01M458                          FORSYTH SATELLITE ACADEMY   \n",
       "4  01M509                            MARTA VALLE HIGH SCHOOL   \n",
       "5  01M515            LOWER EAST SIDE PREPARATORY HIGH SCHOOL   \n",
       "6  01M539  NEW EXPLORATIONS INTO SCIENCE, TECHNOLOGY AND ...   \n",
       "7  01M650                               CASCADES HIGH SCHOOL   \n",
       "8  01M696                     BARD HIGH SCHOOL EARLY COLLEGE   \n",
       "9  02M047  47 THE AMERICAN SIGN LANGUAGE AND ENGLISH SECO...   \n",
       "\n",
       "  Num of SAT Test Takers SAT Critical Reading Avg. Score SAT Math Avg. Score  \\\n",
       "0                     29                             355                 404   \n",
       "1                     91                             383                 423   \n",
       "2                     70                             377                 402   \n",
       "3                      7                             414                 401   \n",
       "4                     44                             390                 433   \n",
       "5                    112                             332                 557   \n",
       "6                    159                             522                 574   \n",
       "7                     18                             417                 418   \n",
       "8                    130                             624                 604   \n",
       "9                     16                             395                 400   \n",
       "\n",
       "  SAT Writing Avg. Score  \n",
       "0                    363  \n",
       "1                    366  \n",
       "2                    370  \n",
       "3                    359  \n",
       "4                    384  \n",
       "5                    316  \n",
       "6                    525  \n",
       "7                    411  \n",
       "8                    628  \n",
       "9                    387  "
      ]
     },
     "execution_count": 2,
     "metadata": {},
     "output_type": "execute_result"
    }
   ],
   "source": [
    "sat = pd.read_csv('https://www.dropbox.com/s/1vjvwso83jlvafd/2012_SAT_Results.csv?dl=1')\n",
    "sat.head(10)"
   ]
  },
  {
   "cell_type": "markdown",
   "metadata": {},
   "source": [
    "### Data Cleaning\n",
    "* Rename the columns\n",
    "* Delete the rows with null values\n",
    "* convert the datatype from object to integral\n",
    "* create the new column of total scores\n",
    "* describe the data"
   ]
  },
  {
   "cell_type": "code",
   "execution_count": 3,
   "metadata": {},
   "outputs": [
    {
     "name": "stdout",
     "output_type": "stream",
     "text": [
      "<class 'pandas.core.frame.DataFrame'>\n",
      "RangeIndex: 478 entries, 0 to 477\n",
      "Data columns (total 6 columns):\n",
      "ID                  478 non-null object\n",
      "School              478 non-null object\n",
      "num_test_takers     478 non-null object\n",
      "cr_mean_score       478 non-null object\n",
      "math_mean_score     478 non-null object\n",
      "write_mean_score    478 non-null object\n",
      "dtypes: object(6)\n",
      "memory usage: 22.5+ KB\n"
     ]
    }
   ],
   "source": [
    "sat.rename(columns={'DBN':'ID',\n",
    "                   'SCHOOL NAME':'School',\n",
    "                   'Num of SAT Test Takers':'num_test_takers',\n",
    "                   'SAT Critical Reading Avg. Score':'cr_mean_score',\n",
    "                   'SAT Math Avg. Score':'math_mean_score',\n",
    "                   'SAT Writing Avg. Score':'write_mean_score'}, inplace = True)\n",
    "sat.info()"
   ]
  },
  {
   "cell_type": "code",
   "execution_count": 4,
   "metadata": {},
   "outputs": [],
   "source": [
    "sat = sat[sat.num_test_takers != 's']"
   ]
  },
  {
   "cell_type": "code",
   "execution_count": 5,
   "metadata": {
    "scrolled": true
   },
   "outputs": [
    {
     "name": "stdout",
     "output_type": "stream",
     "text": [
      "<class 'pandas.core.frame.DataFrame'>\n",
      "Int64Index: 421 entries, 0 to 477\n",
      "Data columns (total 6 columns):\n",
      "ID                  421 non-null object\n",
      "School              421 non-null object\n",
      "num_test_takers     421 non-null int64\n",
      "cr_mean_score       421 non-null int64\n",
      "math_mean_score     421 non-null int64\n",
      "write_mean_score    421 non-null int64\n",
      "dtypes: int64(4), object(2)\n",
      "memory usage: 23.0+ KB\n"
     ]
    }
   ],
   "source": [
    "sat['num_test_takers'] = sat['num_test_takers'].astype(int)\n",
    "sat['cr_mean_score'] = sat['cr_mean_score'].astype(int)\n",
    "sat['math_mean_score'] = sat['math_mean_score'].astype(int)\n",
    "sat['write_mean_score'] = sat['write_mean_score'].astype(int)\n",
    "sat.info()"
   ]
  },
  {
   "cell_type": "code",
   "execution_count": 6,
   "metadata": {},
   "outputs": [],
   "source": [
    "sat['sum_score'] = sat['cr_mean_score'] + sat['math_mean_score'] + sat['write_mean_score']"
   ]
  },
  {
   "cell_type": "code",
   "execution_count": 7,
   "metadata": {
    "scrolled": true
   },
   "outputs": [
    {
     "data": {
      "text/html": [
       "<div>\n",
       "<style scoped>\n",
       "    .dataframe tbody tr th:only-of-type {\n",
       "        vertical-align: middle;\n",
       "    }\n",
       "\n",
       "    .dataframe tbody tr th {\n",
       "        vertical-align: top;\n",
       "    }\n",
       "\n",
       "    .dataframe thead th {\n",
       "        text-align: right;\n",
       "    }\n",
       "</style>\n",
       "<table border=\"1\" class=\"dataframe\">\n",
       "  <thead>\n",
       "    <tr style=\"text-align: right;\">\n",
       "      <th></th>\n",
       "      <th>num_test_takers</th>\n",
       "      <th>cr_mean_score</th>\n",
       "      <th>math_mean_score</th>\n",
       "      <th>write_mean_score</th>\n",
       "      <th>sum_score</th>\n",
       "    </tr>\n",
       "  </thead>\n",
       "  <tbody>\n",
       "    <tr>\n",
       "      <th>count</th>\n",
       "      <td>421.000000</td>\n",
       "      <td>421.000000</td>\n",
       "      <td>421.000000</td>\n",
       "      <td>421.000000</td>\n",
       "      <td>421.000000</td>\n",
       "    </tr>\n",
       "    <tr>\n",
       "      <th>mean</th>\n",
       "      <td>110.320665</td>\n",
       "      <td>400.850356</td>\n",
       "      <td>413.368171</td>\n",
       "      <td>393.985748</td>\n",
       "      <td>1208.204276</td>\n",
       "    </tr>\n",
       "    <tr>\n",
       "      <th>std</th>\n",
       "      <td>155.534254</td>\n",
       "      <td>56.802783</td>\n",
       "      <td>64.684655</td>\n",
       "      <td>58.635109</td>\n",
       "      <td>174.536123</td>\n",
       "    </tr>\n",
       "    <tr>\n",
       "      <th>min</th>\n",
       "      <td>6.000000</td>\n",
       "      <td>279.000000</td>\n",
       "      <td>312.000000</td>\n",
       "      <td>286.000000</td>\n",
       "      <td>887.000000</td>\n",
       "    </tr>\n",
       "    <tr>\n",
       "      <th>25%</th>\n",
       "      <td>41.000000</td>\n",
       "      <td>368.000000</td>\n",
       "      <td>371.000000</td>\n",
       "      <td>360.000000</td>\n",
       "      <td>1102.000000</td>\n",
       "    </tr>\n",
       "    <tr>\n",
       "      <th>50%</th>\n",
       "      <td>62.000000</td>\n",
       "      <td>391.000000</td>\n",
       "      <td>395.000000</td>\n",
       "      <td>381.000000</td>\n",
       "      <td>1169.000000</td>\n",
       "    </tr>\n",
       "    <tr>\n",
       "      <th>75%</th>\n",
       "      <td>95.000000</td>\n",
       "      <td>416.000000</td>\n",
       "      <td>437.000000</td>\n",
       "      <td>411.000000</td>\n",
       "      <td>1257.000000</td>\n",
       "    </tr>\n",
       "    <tr>\n",
       "      <th>max</th>\n",
       "      <td>1277.000000</td>\n",
       "      <td>679.000000</td>\n",
       "      <td>735.000000</td>\n",
       "      <td>682.000000</td>\n",
       "      <td>2096.000000</td>\n",
       "    </tr>\n",
       "  </tbody>\n",
       "</table>\n",
       "</div>"
      ],
      "text/plain": [
       "       num_test_takers  cr_mean_score  math_mean_score  write_mean_score  \\\n",
       "count       421.000000     421.000000       421.000000        421.000000   \n",
       "mean        110.320665     400.850356       413.368171        393.985748   \n",
       "std         155.534254      56.802783        64.684655         58.635109   \n",
       "min           6.000000     279.000000       312.000000        286.000000   \n",
       "25%          41.000000     368.000000       371.000000        360.000000   \n",
       "50%          62.000000     391.000000       395.000000        381.000000   \n",
       "75%          95.000000     416.000000       437.000000        411.000000   \n",
       "max        1277.000000     679.000000       735.000000        682.000000   \n",
       "\n",
       "         sum_score  \n",
       "count   421.000000  \n",
       "mean   1208.204276  \n",
       "std     174.536123  \n",
       "min     887.000000  \n",
       "25%    1102.000000  \n",
       "50%    1169.000000  \n",
       "75%    1257.000000  \n",
       "max    2096.000000  "
      ]
     },
     "execution_count": 7,
     "metadata": {},
     "output_type": "execute_result"
    }
   ],
   "source": [
    "sat.describe()"
   ]
  },
  {
   "cell_type": "markdown",
   "metadata": {},
   "source": [
    "* From the description above, we could see that the average scores of different parts are around 400. What's more, the total socres of 1275 is in the 75th, which can be defined as high level."
   ]
  },
  {
   "cell_type": "markdown",
   "metadata": {},
   "source": [
    "### Data visualization\n",
    "In this section, we will show the situation of SAT scores by using the histogram, boxplot.\n",
    "* Histogram\n",
    "All histograms shows a positive-skewed distribution. Also, three parts indicated a similar mean, approxiamately 400. What's more, there are few test takers having high scores, above 650, in three parts.\n"
   ]
  },
  {
   "cell_type": "code",
   "execution_count": 8,
   "metadata": {
    "scrolled": false
   },
   "outputs": [
    {
     "name": "stderr",
     "output_type": "stream",
     "text": [
      "/anaconda3/lib/python3.6/site-packages/matplotlib/axes/_axes.py:6462: UserWarning: The 'normed' kwarg is deprecated, and has been replaced by the 'density' kwarg.\n",
      "  warnings.warn(\"The 'normed' kwarg is deprecated, and has been \"\n",
      "/anaconda3/lib/python3.6/site-packages/matplotlib/axes/_axes.py:6462: UserWarning: The 'normed' kwarg is deprecated, and has been replaced by the 'density' kwarg.\n",
      "  warnings.warn(\"The 'normed' kwarg is deprecated, and has been \"\n",
      "/anaconda3/lib/python3.6/site-packages/matplotlib/axes/_axes.py:6462: UserWarning: The 'normed' kwarg is deprecated, and has been replaced by the 'density' kwarg.\n",
      "  warnings.warn(\"The 'normed' kwarg is deprecated, and has been \"\n",
      "/anaconda3/lib/python3.6/site-packages/matplotlib/axes/_axes.py:6462: UserWarning: The 'normed' kwarg is deprecated, and has been replaced by the 'density' kwarg.\n",
      "  warnings.warn(\"The 'normed' kwarg is deprecated, and has been \"\n"
     ]
    },
    {
     "data": {
      "text/plain": [
       "<matplotlib.axes._subplots.AxesSubplot at 0x1c1d71b588>"
      ]
     },
     "execution_count": 8,
     "metadata": {},
     "output_type": "execute_result"
    },
    {
     "data": {
      "image/png": "[encoded data removed]",
      "text/plain": [
       "<Figure size 864x648 with 4 Axes>"
      ]
     },
     "metadata": {},
     "output_type": "display_data"
    }
   ],
   "source": [
    "fig, axarr = plt.subplots(2, 2, figsize=(12, 9))\n",
    "axarr = axarr.flatten()\n",
    "fig.suptitle('Distribution of Scores', fontsize=16)\n",
    "sns.distplot(sat['cr_mean_score'],ax = axarr[0])\n",
    "sns.distplot(sat['math_mean_score'],ax = axarr[1])\n",
    "sns.distplot(sat['write_mean_score'],ax = axarr[2])\n",
    "sns.distplot(sat['sum_score'],ax = axarr[3])"
   ]
  },
  {
   "cell_type": "markdown",
   "metadata": {},
   "source": [
    "* Boxplot\n",
    "Three boxplots also showed a similar average scores and a similar IQR. In writing and math part, there are zero outlers in the lowest zone. Besides, in critical reading part, there are zero test takers taking above 700 while the full credict is 800."
   ]
  },
  {
   "cell_type": "code",
   "execution_count": 9,
   "metadata": {
    "scrolled": false
   },
   "outputs": [
    {
     "data": {
      "text/plain": [
       "<matplotlib.axes._subplots.AxesSubplot at 0x1c1d88b128>"
      ]
     },
     "execution_count": 9,
     "metadata": {},
     "output_type": "execute_result"
    },
    {
     "data": {
      "image/png": "[encoded data removed]",
      "text/plain": [
       "<Figure size 576x432 with 1 Axes>"
      ]
     },
     "metadata": {},
     "output_type": "display_data"
    }
   ],
   "source": [
    "fig, axarr = plt.subplots(1, 1, figsize=(8, 6))\n",
    "fig.suptitle('Boxplot of Scores in different parts', fontsize=16)\n",
    "sns.boxplot(data=sat[['cr_mean_score','write_mean_score','math_mean_score']], orient=\"v\", palette=\"Set2\")"
   ]
  },
  {
   "cell_type": "markdown",
   "metadata": {},
   "source": [
    "### Descritive statistics\n",
    "In this section, we are goint to create the heatmap and regression plot to show the relationship between total scores and scores of different part.\n",
    "* In the heatmap, we also included a variables, the number of test takers, since we assumed that the number of test takers could have a effect on the average of total scores. We can see that except the number of test takers, three parts of the test have a high correlation with the total scores, all above 0.95."
   ]
  },
  {
   "cell_type": "code",
   "execution_count": 10,
   "metadata": {},
   "outputs": [
    {
     "data": {
      "image/png": "[encoded data removed]",
      "text/plain": [
       "<Figure size 576x432 with 2 Axes>"
      ]
     },
     "metadata": {},
     "output_type": "display_data"
    },
    {
     "data": {
      "text/html": [
       "<div>\n",
       "<style scoped>\n",
       "    .dataframe tbody tr th:only-of-type {\n",
       "        vertical-align: middle;\n",
       "    }\n",
       "\n",
       "    .dataframe tbody tr th {\n",
       "        vertical-align: top;\n",
       "    }\n",
       "\n",
       "    .dataframe thead th {\n",
       "        text-align: right;\n",
       "    }\n",
       "</style>\n",
       "<table border=\"1\" class=\"dataframe\">\n",
       "  <thead>\n",
       "    <tr style=\"text-align: right;\">\n",
       "      <th></th>\n",
       "      <th>num_test_takers</th>\n",
       "      <th>cr_mean_score</th>\n",
       "      <th>math_mean_score</th>\n",
       "      <th>write_mean_score</th>\n",
       "      <th>sum_score</th>\n",
       "    </tr>\n",
       "  </thead>\n",
       "  <tbody>\n",
       "    <tr>\n",
       "      <th>num_test_takers</th>\n",
       "      <td>1.000000</td>\n",
       "      <td>0.421818</td>\n",
       "      <td>0.528985</td>\n",
       "      <td>0.444447</td>\n",
       "      <td>0.482639</td>\n",
       "    </tr>\n",
       "    <tr>\n",
       "      <th>cr_mean_score</th>\n",
       "      <td>0.421818</td>\n",
       "      <td>1.000000</td>\n",
       "      <td>0.872412</td>\n",
       "      <td>0.970342</td>\n",
       "      <td>0.974758</td>\n",
       "    </tr>\n",
       "    <tr>\n",
       "      <th>math_mean_score</th>\n",
       "      <td>0.528985</td>\n",
       "      <td>0.872412</td>\n",
       "      <td>1.000000</td>\n",
       "      <td>0.888456</td>\n",
       "      <td>0.953011</td>\n",
       "    </tr>\n",
       "    <tr>\n",
       "      <th>write_mean_score</th>\n",
       "      <td>0.444447</td>\n",
       "      <td>0.970342</td>\n",
       "      <td>0.888456</td>\n",
       "      <td>1.000000</td>\n",
       "      <td>0.981016</td>\n",
       "    </tr>\n",
       "    <tr>\n",
       "      <th>sum_score</th>\n",
       "      <td>0.482639</td>\n",
       "      <td>0.974758</td>\n",
       "      <td>0.953011</td>\n",
       "      <td>0.981016</td>\n",
       "      <td>1.000000</td>\n",
       "    </tr>\n",
       "  </tbody>\n",
       "</table>\n",
       "</div>"
      ],
      "text/plain": [
       "                  num_test_takers  cr_mean_score  math_mean_score  \\\n",
       "num_test_takers          1.000000       0.421818         0.528985   \n",
       "cr_mean_score            0.421818       1.000000         0.872412   \n",
       "math_mean_score          0.528985       0.872412         1.000000   \n",
       "write_mean_score         0.444447       0.970342         0.888456   \n",
       "sum_score                0.482639       0.974758         0.953011   \n",
       "\n",
       "                  write_mean_score  sum_score  \n",
       "num_test_takers           0.444447   0.482639  \n",
       "cr_mean_score             0.970342   0.974758  \n",
       "math_mean_score           0.888456   0.953011  \n",
       "write_mean_score          1.000000   0.981016  \n",
       "sum_score                 0.981016   1.000000  "
      ]
     },
     "execution_count": 10,
     "metadata": {},
     "output_type": "execute_result"
    }
   ],
   "source": [
    "fig, axarr = plt.subplots(1, 1, figsize=(8, 6))\n",
    "fig.suptitle('Heatmap of correlation between scores', fontsize=16)\n",
    "corr = sat.corr()\n",
    "sns.heatmap(corr, \n",
    "            xticklabels=corr.columns.values,\n",
    "            yticklabels=corr.columns.values)\n",
    "plt.show()\n",
    "corr"
   ]
  },
  {
   "cell_type": "markdown",
   "metadata": {},
   "source": [
    "* The regression plot also proved the conclusion mentioned above, indicating a smooth and positive relationship between total score and scores of different parts. Besides, since the writing part has the greatest correlation, 0.98, it is the best part to interpet the total scores."
   ]
  },
  {
   "cell_type": "code",
   "execution_count": 11,
   "metadata": {},
   "outputs": [
    {
     "data": {
      "text/plain": [
       "<matplotlib.axes._subplots.AxesSubplot at 0x1c1e2b4128>"
      ]
     },
     "execution_count": 11,
     "metadata": {},
     "output_type": "execute_result"
    },
    {
     "data": {
      "image/png": "[encoded data removed]",
      "text/plain": [
       "<Figure size 1080x360 with 3 Axes>"
      ]
     },
     "metadata": {},
     "output_type": "display_data"
    }
   ],
   "source": [
    "fig, axarr = plt.subplots(1, 3, figsize=(15, 5))\n",
    "fig.suptitle('Total scores VS scores of different parts', fontsize=16)\n",
    "sns.regplot(x = \"cr_mean_score\", y = \"sum_score\", data = sat,ax=axarr[0])\n",
    "sns.regplot(x = \"math_mean_score\", y = \"sum_score\", data = sat,ax=axarr[1])\n",
    "sns.regplot(x = \"write_mean_score\", y = \"sum_score\", data = sat,ax=axarr[2])"
   ]
  },
  {
   "cell_type": "markdown",
   "metadata": {},
   "source": [
    "### Classification\n",
    "In this section, we are going to use critical reading part to predict the rank of the total socre. Let's first look through the description of the data. In the 75th rank, the total score is 1257, so I decided to set up a seperate line in 1250. When the total score is greater than 1250, we defined the score is high. And when the total score is less or equal to the 1250, it is defined low.\n",
    "\n",
    "#### Classification using Sklearn's RandomForestClassifier"
   ]
  },
  {
   "cell_type": "code",
   "execution_count": 12,
   "metadata": {},
   "outputs": [
    {
     "data": {
      "text/html": [
       "<div>\n",
       "<style scoped>\n",
       "    .dataframe tbody tr th:only-of-type {\n",
       "        vertical-align: middle;\n",
       "    }\n",
       "\n",
       "    .dataframe tbody tr th {\n",
       "        vertical-align: top;\n",
       "    }\n",
       "\n",
       "    .dataframe thead th {\n",
       "        text-align: right;\n",
       "    }\n",
       "</style>\n",
       "<table border=\"1\" class=\"dataframe\">\n",
       "  <thead>\n",
       "    <tr style=\"text-align: right;\">\n",
       "      <th></th>\n",
       "      <th>num_test_takers</th>\n",
       "      <th>cr_mean_score</th>\n",
       "      <th>math_mean_score</th>\n",
       "      <th>write_mean_score</th>\n",
       "      <th>sum_score</th>\n",
       "    </tr>\n",
       "  </thead>\n",
       "  <tbody>\n",
       "    <tr>\n",
       "      <th>count</th>\n",
       "      <td>421.000000</td>\n",
       "      <td>421.000000</td>\n",
       "      <td>421.000000</td>\n",
       "      <td>421.000000</td>\n",
       "      <td>421.000000</td>\n",
       "    </tr>\n",
       "    <tr>\n",
       "      <th>mean</th>\n",
       "      <td>110.320665</td>\n",
       "      <td>400.850356</td>\n",
       "      <td>413.368171</td>\n",
       "      <td>393.985748</td>\n",
       "      <td>1208.204276</td>\n",
       "    </tr>\n",
       "    <tr>\n",
       "      <th>std</th>\n",
       "      <td>155.534254</td>\n",
       "      <td>56.802783</td>\n",
       "      <td>64.684655</td>\n",
       "      <td>58.635109</td>\n",
       "      <td>174.536123</td>\n",
       "    </tr>\n",
       "    <tr>\n",
       "      <th>min</th>\n",
       "      <td>6.000000</td>\n",
       "      <td>279.000000</td>\n",
       "      <td>312.000000</td>\n",
       "      <td>286.000000</td>\n",
       "      <td>887.000000</td>\n",
       "    </tr>\n",
       "    <tr>\n",
       "      <th>25%</th>\n",
       "      <td>41.000000</td>\n",
       "      <td>368.000000</td>\n",
       "      <td>371.000000</td>\n",
       "      <td>360.000000</td>\n",
       "      <td>1102.000000</td>\n",
       "    </tr>\n",
       "    <tr>\n",
       "      <th>50%</th>\n",
       "      <td>62.000000</td>\n",
       "      <td>391.000000</td>\n",
       "      <td>395.000000</td>\n",
       "      <td>381.000000</td>\n",
       "      <td>1169.000000</td>\n",
       "    </tr>\n",
       "    <tr>\n",
       "      <th>75%</th>\n",
       "      <td>95.000000</td>\n",
       "      <td>416.000000</td>\n",
       "      <td>437.000000</td>\n",
       "      <td>411.000000</td>\n",
       "      <td>1257.000000</td>\n",
       "    </tr>\n",
       "    <tr>\n",
       "      <th>max</th>\n",
       "      <td>1277.000000</td>\n",
       "      <td>679.000000</td>\n",
       "      <td>735.000000</td>\n",
       "      <td>682.000000</td>\n",
       "      <td>2096.000000</td>\n",
       "    </tr>\n",
       "  </tbody>\n",
       "</table>\n",
       "</div>"
      ],
      "text/plain": [
       "       num_test_takers  cr_mean_score  math_mean_score  write_mean_score  \\\n",
       "count       421.000000     421.000000       421.000000        421.000000   \n",
       "mean        110.320665     400.850356       413.368171        393.985748   \n",
       "std         155.534254      56.802783        64.684655         58.635109   \n",
       "min           6.000000     279.000000       312.000000        286.000000   \n",
       "25%          41.000000     368.000000       371.000000        360.000000   \n",
       "50%          62.000000     391.000000       395.000000        381.000000   \n",
       "75%          95.000000     416.000000       437.000000        411.000000   \n",
       "max        1277.000000     679.000000       735.000000        682.000000   \n",
       "\n",
       "         sum_score  \n",
       "count   421.000000  \n",
       "mean   1208.204276  \n",
       "std     174.536123  \n",
       "min     887.000000  \n",
       "25%    1102.000000  \n",
       "50%    1169.000000  \n",
       "75%    1257.000000  \n",
       "max    2096.000000  "
      ]
     },
     "execution_count": 12,
     "metadata": {},
     "output_type": "execute_result"
    }
   ],
   "source": [
    "sat.describe()"
   ]
  },
  {
   "cell_type": "markdown",
   "metadata": {},
   "source": [
    "* Create a new column showing the class of total socres. 1 is for high, while 0 is for low."
   ]
  },
  {
   "cell_type": "code",
   "execution_count": 13,
   "metadata": {},
   "outputs": [
    {
     "data": {
      "text/html": [
       "<div>\n",
       "<style scoped>\n",
       "    .dataframe tbody tr th:only-of-type {\n",
       "        vertical-align: middle;\n",
       "    }\n",
       "\n",
       "    .dataframe tbody tr th {\n",
       "        vertical-align: top;\n",
       "    }\n",
       "\n",
       "    .dataframe thead th {\n",
       "        text-align: right;\n",
       "    }\n",
       "</style>\n",
       "<table border=\"1\" class=\"dataframe\">\n",
       "  <thead>\n",
       "    <tr style=\"text-align: right;\">\n",
       "      <th></th>\n",
       "      <th>ID</th>\n",
       "      <th>School</th>\n",
       "      <th>num_test_takers</th>\n",
       "      <th>cr_mean_score</th>\n",
       "      <th>math_mean_score</th>\n",
       "      <th>write_mean_score</th>\n",
       "      <th>sum_score</th>\n",
       "      <th>class_sum_score</th>\n",
       "    </tr>\n",
       "  </thead>\n",
       "  <tbody>\n",
       "    <tr>\n",
       "      <th>0</th>\n",
       "      <td>01M292</td>\n",
       "      <td>HENRY STREET SCHOOL FOR INTERNATIONAL STUDIES</td>\n",
       "      <td>29</td>\n",
       "      <td>355</td>\n",
       "      <td>404</td>\n",
       "      <td>363</td>\n",
       "      <td>1122</td>\n",
       "      <td>1122</td>\n",
       "    </tr>\n",
       "    <tr>\n",
       "      <th>1</th>\n",
       "      <td>01M448</td>\n",
       "      <td>UNIVERSITY NEIGHBORHOOD HIGH SCHOOL</td>\n",
       "      <td>91</td>\n",
       "      <td>383</td>\n",
       "      <td>423</td>\n",
       "      <td>366</td>\n",
       "      <td>1172</td>\n",
       "      <td>1172</td>\n",
       "    </tr>\n",
       "    <tr>\n",
       "      <th>2</th>\n",
       "      <td>01M450</td>\n",
       "      <td>EAST SIDE COMMUNITY SCHOOL</td>\n",
       "      <td>70</td>\n",
       "      <td>377</td>\n",
       "      <td>402</td>\n",
       "      <td>370</td>\n",
       "      <td>1149</td>\n",
       "      <td>1149</td>\n",
       "    </tr>\n",
       "    <tr>\n",
       "      <th>3</th>\n",
       "      <td>01M458</td>\n",
       "      <td>FORSYTH SATELLITE ACADEMY</td>\n",
       "      <td>7</td>\n",
       "      <td>414</td>\n",
       "      <td>401</td>\n",
       "      <td>359</td>\n",
       "      <td>1174</td>\n",
       "      <td>1174</td>\n",
       "    </tr>\n",
       "    <tr>\n",
       "      <th>4</th>\n",
       "      <td>01M509</td>\n",
       "      <td>MARTA VALLE HIGH SCHOOL</td>\n",
       "      <td>44</td>\n",
       "      <td>390</td>\n",
       "      <td>433</td>\n",
       "      <td>384</td>\n",
       "      <td>1207</td>\n",
       "      <td>1207</td>\n",
       "    </tr>\n",
       "    <tr>\n",
       "      <th>5</th>\n",
       "      <td>01M515</td>\n",
       "      <td>LOWER EAST SIDE PREPARATORY HIGH SCHOOL</td>\n",
       "      <td>112</td>\n",
       "      <td>332</td>\n",
       "      <td>557</td>\n",
       "      <td>316</td>\n",
       "      <td>1205</td>\n",
       "      <td>1205</td>\n",
       "    </tr>\n",
       "    <tr>\n",
       "      <th>6</th>\n",
       "      <td>01M539</td>\n",
       "      <td>NEW EXPLORATIONS INTO SCIENCE, TECHNOLOGY AND ...</td>\n",
       "      <td>159</td>\n",
       "      <td>522</td>\n",
       "      <td>574</td>\n",
       "      <td>525</td>\n",
       "      <td>1621</td>\n",
       "      <td>1621</td>\n",
       "    </tr>\n",
       "    <tr>\n",
       "      <th>7</th>\n",
       "      <td>01M650</td>\n",
       "      <td>CASCADES HIGH SCHOOL</td>\n",
       "      <td>18</td>\n",
       "      <td>417</td>\n",
       "      <td>418</td>\n",
       "      <td>411</td>\n",
       "      <td>1246</td>\n",
       "      <td>1246</td>\n",
       "    </tr>\n",
       "    <tr>\n",
       "      <th>8</th>\n",
       "      <td>01M696</td>\n",
       "      <td>BARD HIGH SCHOOL EARLY COLLEGE</td>\n",
       "      <td>130</td>\n",
       "      <td>624</td>\n",
       "      <td>604</td>\n",
       "      <td>628</td>\n",
       "      <td>1856</td>\n",
       "      <td>1856</td>\n",
       "    </tr>\n",
       "    <tr>\n",
       "      <th>9</th>\n",
       "      <td>02M047</td>\n",
       "      <td>47 THE AMERICAN SIGN LANGUAGE AND ENGLISH SECO...</td>\n",
       "      <td>16</td>\n",
       "      <td>395</td>\n",
       "      <td>400</td>\n",
       "      <td>387</td>\n",
       "      <td>1182</td>\n",
       "      <td>1182</td>\n",
       "    </tr>\n",
       "  </tbody>\n",
       "</table>\n",
       "</div>"
      ],
      "text/plain": [
       "       ID                                             School  num_test_takers  \\\n",
       "0  01M292      HENRY STREET SCHOOL FOR INTERNATIONAL STUDIES               29   \n",
       "1  01M448                UNIVERSITY NEIGHBORHOOD HIGH SCHOOL               91   \n",
       "2  01M450                         EAST SIDE COMMUNITY SCHOOL               70   \n",
       "3  01M458                          FORSYTH SATELLITE ACADEMY                7   \n",
       "4  01M509                            MARTA VALLE HIGH SCHOOL               44   \n",
       "5  01M515            LOWER EAST SIDE PREPARATORY HIGH SCHOOL              112   \n",
       "6  01M539  NEW EXPLORATIONS INTO SCIENCE, TECHNOLOGY AND ...              159   \n",
       "7  01M650                               CASCADES HIGH SCHOOL               18   \n",
       "8  01M696                     BARD HIGH SCHOOL EARLY COLLEGE              130   \n",
       "9  02M047  47 THE AMERICAN SIGN LANGUAGE AND ENGLISH SECO...               16   \n",
       "\n",
       "   cr_mean_score  math_mean_score  write_mean_score  sum_score  \\\n",
       "0            355              404               363       1122   \n",
       "1            383              423               366       1172   \n",
       "2            377              402               370       1149   \n",
       "3            414              401               359       1174   \n",
       "4            390              433               384       1207   \n",
       "5            332              557               316       1205   \n",
       "6            522              574               525       1621   \n",
       "7            417              418               411       1246   \n",
       "8            624              604               628       1856   \n",
       "9            395              400               387       1182   \n",
       "\n",
       "   class_sum_score  \n",
       "0             1122  \n",
       "1             1172  \n",
       "2             1149  \n",
       "3             1174  \n",
       "4             1207  \n",
       "5             1205  \n",
       "6             1621  \n",
       "7             1246  \n",
       "8             1856  \n",
       "9             1182  "
      ]
     },
     "execution_count": 13,
     "metadata": {},
     "output_type": "execute_result"
    }
   ],
   "source": [
    "sat['class_sum_score'] = sat['sum_score']\n",
    "sat.head(10)"
   ]
  },
  {
   "cell_type": "markdown",
   "metadata": {},
   "source": [
    "* The first step is to convert the scores which are over 1250 into 1 and then the scores which are less than 1250 will not equal to 1. Therefore, we used this logic to divide the total score into 2 classes.\n"
   ]
  },
  {
   "cell_type": "code",
   "execution_count": 14,
   "metadata": {},
   "outputs": [
    {
     "name": "stderr",
     "output_type": "stream",
     "text": [
      "/anaconda3/lib/python3.6/site-packages/ipykernel_launcher.py:1: SettingWithCopyWarning: \n",
      "A value is trying to be set on a copy of a slice from a DataFrame\n",
      "\n",
      "See the caveats in the documentation: http://pandas.pydata.org/pandas-docs/stable/indexing.html#indexing-view-versus-copy\n",
      "  \"\"\"Entry point for launching an IPython kernel.\n",
      "/anaconda3/lib/python3.6/site-packages/ipykernel_launcher.py:2: SettingWithCopyWarning: \n",
      "A value is trying to be set on a copy of a slice from a DataFrame\n",
      "\n",
      "See the caveats in the documentation: http://pandas.pydata.org/pandas-docs/stable/indexing.html#indexing-view-versus-copy\n",
      "  \n"
     ]
    }
   ],
   "source": [
    "sat.class_sum_score[sat.class_sum_score > 1250] = 1\n",
    "sat.class_sum_score[sat.class_sum_score != 1] = 0\n",
    "sat['class_sum_score'] = sat['class_sum_score'].astype(np.int64)"
   ]
  },
  {
   "cell_type": "code",
   "execution_count": 15,
   "metadata": {},
   "outputs": [
    {
     "name": "stdout",
     "output_type": "stream",
     "text": [
      "<class 'pandas.core.frame.DataFrame'>\n",
      "Int64Index: 421 entries, 0 to 477\n",
      "Data columns (total 8 columns):\n",
      "ID                  421 non-null object\n",
      "School              421 non-null object\n",
      "num_test_takers     421 non-null int64\n",
      "cr_mean_score       421 non-null int64\n",
      "math_mean_score     421 non-null int64\n",
      "write_mean_score    421 non-null int64\n",
      "sum_score           421 non-null int64\n",
      "class_sum_score     421 non-null int64\n",
      "dtypes: int64(6), object(2)\n",
      "memory usage: 29.6+ KB\n",
      "None\n",
      "       ID                                             School  num_test_takers  \\\n",
      "0  01M292      HENRY STREET SCHOOL FOR INTERNATIONAL STUDIES               29   \n",
      "1  01M448                UNIVERSITY NEIGHBORHOOD HIGH SCHOOL               91   \n",
      "2  01M450                         EAST SIDE COMMUNITY SCHOOL               70   \n",
      "3  01M458                          FORSYTH SATELLITE ACADEMY                7   \n",
      "4  01M509                            MARTA VALLE HIGH SCHOOL               44   \n",
      "5  01M515            LOWER EAST SIDE PREPARATORY HIGH SCHOOL              112   \n",
      "6  01M539  NEW EXPLORATIONS INTO SCIENCE, TECHNOLOGY AND ...              159   \n",
      "7  01M650                               CASCADES HIGH SCHOOL               18   \n",
      "8  01M696                     BARD HIGH SCHOOL EARLY COLLEGE              130   \n",
      "9  02M047  47 THE AMERICAN SIGN LANGUAGE AND ENGLISH SECO...               16   \n",
      "\n",
      "   cr_mean_score  math_mean_score  write_mean_score  sum_score  \\\n",
      "0            355              404               363       1122   \n",
      "1            383              423               366       1172   \n",
      "2            377              402               370       1149   \n",
      "3            414              401               359       1174   \n",
      "4            390              433               384       1207   \n",
      "5            332              557               316       1205   \n",
      "6            522              574               525       1621   \n",
      "7            417              418               411       1246   \n",
      "8            624              604               628       1856   \n",
      "9            395              400               387       1182   \n",
      "\n",
      "   class_sum_score  \n",
      "0                0  \n",
      "1                0  \n",
      "2                0  \n",
      "3                0  \n",
      "4                0  \n",
      "5                0  \n",
      "6                1  \n",
      "7                0  \n",
      "8                1  \n",
      "9                0  \n"
     ]
    }
   ],
   "source": [
    "print(sat.info())\n",
    "print(sat.head(10))"
   ]
  },
  {
   "cell_type": "code",
   "execution_count": 16,
   "metadata": {},
   "outputs": [],
   "source": [
    "CR = sat[['cr_mean_score']]\n",
    "Class = sat[['class_sum_score']]\n",
    "random.seed(123)\n",
    "CR_train, CR_test, Class_train, Class_test = sklearn.model_selection.train_test_split(CR, Class, test_size=0.3)"
   ]
  },
  {
   "cell_type": "code",
   "execution_count": 17,
   "metadata": {},
   "outputs": [
    {
     "name": "stderr",
     "output_type": "stream",
     "text": [
      "/anaconda3/lib/python3.6/site-packages/ipykernel_launcher.py:2: DataConversionWarning: A column-vector y was passed when a 1d array was expected. Please change the shape of y to (n_samples,), for example using ravel().\n",
      "  \n"
     ]
    }
   ],
   "source": [
    "model = sklearn.ensemble.RandomForestClassifier(n_estimators=1)\n",
    "result = model.fit(CR_train,Class_train)"
   ]
  },
  {
   "cell_type": "code",
   "execution_count": 18,
   "metadata": {},
   "outputs": [
    {
     "name": "stdout",
     "output_type": "stream",
     "text": [
      "0.9606299212598425\n"
     ]
    }
   ],
   "source": [
    "preds = result.predict(CR_test)\n",
    "print(accuracy_score(Class_test, preds))"
   ]
  },
  {
   "cell_type": "code",
   "execution_count": 19,
   "metadata": {},
   "outputs": [
    {
     "name": "stdout",
     "output_type": "stream",
     "text": [
      "             precision    recall  f1-score   support\n",
      "\n",
      "          0       0.97      0.98      0.97        95\n",
      "          1       0.94      0.91      0.92        32\n",
      "\n",
      "avg / total       0.96      0.96      0.96       127\n",
      "\n"
     ]
    }
   ],
   "source": [
    "print(sklearn.metrics.classification_report(Class_test, preds))"
   ]
  },
  {
   "cell_type": "markdown",
   "metadata": {},
   "source": [
    "* We could see the the precision and recall of our model are 0.95, meaning this is a good model which can be applied into the new data."
   ]
  },
  {
   "cell_type": "markdown",
   "metadata": {},
   "source": [
    "### Conclusion\n",
    "* From the description of the data, we can see the average of SAT scores of New York in 2012 is 1208,which is just a medium level since top 50 universities all require 1800 and even more. Based on the information above, 75% of New York students' scores are far from this requirement.\n",
    "* What's more, since we construct the classification model, we can use the critical reading part to predict the rank of the students and the universities which focus on this part could make a decision of admission by using this model."
   ]
  },
  {
   "cell_type": "code",
   "execution_count": null,
   "metadata": {},
   "outputs": [],
   "source": []
  }
 ],
 "metadata": {
  "kernelspec": {
   "display_name": "Python 3",
   "language": "python",
   "name": "python3"
  },
  "language_info": {
   "codemirror_mode": {
    "name": "ipython",
    "version": 3
   },
   "file_extension": ".py",
   "mimetype": "text/x-python",
   "name": "python",
   "nbconvert_exporter": "python",
   "pygments_lexer": "ipython3",
   "version": "3.6.5"
  }
 },
 "nbformat": 4,
 "nbformat_minor": 2
}
